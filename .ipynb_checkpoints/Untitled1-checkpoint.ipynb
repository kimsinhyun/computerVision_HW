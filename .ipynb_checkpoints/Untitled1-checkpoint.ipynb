{
 "cells": [
  {
   "cell_type": "code",
   "execution_count": 39,
   "id": "dbb0a240",
   "metadata": {},
   "outputs": [
    {
     "name": "stdout",
     "output_type": "stream",
     "text": [
      "inputL_dim:  784\n",
      "hiddenL_dim:  128\n",
      "outputL_dim:  10\n",
      "train_loader len:  60000\n",
      "w1:  (784, 128)\n",
      "b1:  (128,)\n",
      "w2:  (128, 10)\n",
      "b2:  (10,)\n"
     ]
    },
    {
     "name": "stderr",
     "output_type": "stream",
     "text": [
      "100%|██████████████████████████████████████████████████████████████████████████| 60000/60000 [00:23<00:00, 2560.08it/s]\n"
     ]
    },
    {
     "name": "stdout",
     "output_type": "stream",
     "text": [
      "Epoch 1, Accuracy: 84.475%\n"
     ]
    },
    {
     "name": "stderr",
     "output_type": "stream",
     "text": [
      "100%|██████████████████████████████████████████████████████████████████████████| 60000/60000 [00:23<00:00, 2572.17it/s]\n"
     ]
    },
    {
     "name": "stdout",
     "output_type": "stream",
     "text": [
      "Epoch 2, Accuracy: 91.040%\n"
     ]
    },
    {
     "name": "stderr",
     "output_type": "stream",
     "text": [
      "100%|██████████████████████████████████████████████████████████████████████████| 60000/60000 [00:24<00:00, 2484.88it/s]\n"
     ]
    },
    {
     "name": "stdout",
     "output_type": "stream",
     "text": [
      "Epoch 3, Accuracy: 91.902%\n"
     ]
    },
    {
     "name": "stderr",
     "output_type": "stream",
     "text": [
      "100%|██████████████████████████████████████████████████████████████████████████| 60000/60000 [00:23<00:00, 2517.84it/s]\n"
     ]
    },
    {
     "name": "stdout",
     "output_type": "stream",
     "text": [
      "Epoch 4, Accuracy: 92.802%\n"
     ]
    },
    {
     "name": "stderr",
     "output_type": "stream",
     "text": [
      "100%|██████████████████████████████████████████████████████████████████████████| 60000/60000 [00:23<00:00, 2513.45it/s]\n"
     ]
    },
    {
     "name": "stdout",
     "output_type": "stream",
     "text": [
      "Epoch 5, Accuracy: 93.368%\n"
     ]
    },
    {
     "data": {
      "image/png": "[encoded data removed]",
      "text/plain": [
       "<Figure size 432x288 with 2 Axes>"
      ]
     },
     "metadata": {
      "needs_background": "light"
     },
     "output_type": "display_data"
    }
   ],
   "source": [
    "import torch\n",
    "from torchvision import transforms, datasets\n",
    "import numpy as np\n",
    "import matplotlib.pyplot as plt\n",
    "from tqdm import tqdm\n",
    "\n",
    "# Set seeds. Do not touch\n",
    "np.random.seed(77) \n",
    "torch.manual_seed(77)\n",
    "\n",
    "# sigmoid function\n",
    "def sigmoid(x):\n",
    "    return 1 / (1 + np.exp(-x))\n",
    "\n",
    "#sigmoid derivative function\n",
    "def sigmoid_deriv(x):\n",
    "    return sigmoid(x) * (1 - sigmoid(x))  \n",
    "\n",
    "\n",
    "\n",
    "class MLP():\n",
    "    # Constructor\n",
    "    def __init__(self, inputLsize, hiddenLsize, outputLsize, learning_rate):\n",
    "        self.inputLsize = inputLsize\n",
    "        self.hiddenLsize = hiddenLsize\n",
    "        self.outputLsize = outputLsize\n",
    "        self.learning_rate = learning_rate\n",
    "        # initialize weights and biases\n",
    "        self.w1 = 0.0001 * np.random.randn(inputLsize, hiddenLsize)\n",
    "        self.b1 = np.zeros(hiddenLsize)\n",
    "        self.w2 = 0.0001 * np.random.randn(hiddenLsize, outputLsize)\n",
    "        self.b2 = np.zeros(outputLsize)\n",
    "        # arrays to store loss and accuracy\n",
    "        self.lossArr = []\n",
    "        self.accuracyArr = []\n",
    "    \n",
    "    def forward(self, x):\n",
    "        '''\n",
    "        Forward pass.\n",
    "        Set z1, a1, z2, a2\n",
    "        '''\n",
    "        self.z1 = np.dot(x, self.w1) + self.b1\n",
    "        self.a1 = sigmoid(self.z1)\n",
    "        self.z2 = np.dot(self.a1, self.w2) + self.b2\n",
    "        self.a2 = sigmoid(self.z2)\n",
    "        \n",
    "    def backward(self, x, y_onehot):\n",
    "        '''\n",
    "        Backward pass.\n",
    "        Implement backward pass for the 3-layer network. \n",
    "        Backpropagate Output layer --> Hidden layer and \n",
    "                      Hidden Layer --> Input Layer\n",
    "        '''\n",
    "        \n",
    "#         self.d_b2 = np.dot((self.d_a2 * self.d_z2), self.a1.T)\n",
    "#         self.d_w2 = self.d_a2 * self.d_z2\n",
    "#         self.d_a1 = self.d_a2 \n",
    "#         self.d_z1 = \n",
    "#         self.d_b1 = \n",
    "#         self.d_w1 = \n",
    "        \n",
    "        self.d_a2 = (self.a2 - y_onehot)      \n",
    "        self.d_z2 = sigmoid_deriv(self.a2)\n",
    "        self.d_w2 = np.dot(self.a1.T, self.d_a2 * self.d_z2)\n",
    "        self.d_b2 = np.dot(self.a1.T, self.d_a2 * self.d_z2)\n",
    "        \n",
    "        self.d_a1 = self.w2.T   \n",
    "        self.d_z1 = sigmoid_deriv(self.a1)\n",
    "#         self.d_w1 = np.dot(x.T,  (np.dot((self.a2 - y_onehot) * sigmoid_deriv(self.a2), self.w2.T) * sigmoid_deriv(self.a1)))\n",
    "        self.d_w1 = np.dot(x.T,  (np.dot( self.d_a2 * self.d_z2, self.d_a1) * self.d_z1))\n",
    "        self.d_b1 = np.dot(x.T,  (np.dot( self.d_a2 * self.d_z2, self.d_a1) * self.d_z1))\n",
    "\n",
    "#         print(self.d_a2.shape)\n",
    "#         print(self.d_a1.shape)\n",
    "#         print(self.d_z1.shape)\n",
    "        \n",
    "#         self.d_b1 = np.dot(x.T,  (np.dot((self.a2 - y_onehot) * sigmoid_deriv(self.a2), self.b1.T) * sigmoid_deriv(self.a1)))\n",
    "\n",
    "    def step(self):\n",
    "        '''\n",
    "        Update weights and biases\n",
    "        '''\n",
    "        self.w1 -= self.learning_rate * self.d_w1\n",
    "#         self.b1 -= \n",
    "        self.w2 -= self.learning_rate * self.d_w2\n",
    "#         self.b2 -= \n",
    "\n",
    "################################################DO NOT TOUCH################################################  \n",
    "# Do not run any additional function nor touch any of codes below this line.\n",
    "    def train(self, epochs, train_loader):\n",
    "        for epoch in range(epochs):\n",
    "            loss_sum, corrects, accuracy = 0, 0, 0\n",
    "            for data in tqdm(train_loader):\n",
    "                x, y = data # get data x and label y\n",
    "                x = x.reshape((1, -1)) # flatten the image 28x28 --> 1x784\n",
    "\n",
    "                # convert labels into one-hot vectors\n",
    "                y_onehot = np.zeros((1, 10))\n",
    "                y_onehot[0,y] += 1\n",
    "\n",
    "                # forward pass\n",
    "                self.forward(x)\n",
    "\n",
    "                # use Mean Squared Error for loss function\n",
    "                loss = 0.1 * (self.a2 - y_onehot)**2\n",
    "                # backward pass\n",
    "                self.backward(x, y_onehot)\n",
    "\n",
    "                # # update weights\n",
    "                self.step()\n",
    "\n",
    "                # add loss\n",
    "                loss_sum += np.sum(loss)\n",
    "                #calculate accuracy \n",
    "                if np.argmax(self.a2) == y:\n",
    "                    corrects += 1\n",
    "\n",
    "            accuracy = corrects / 60000 * 100\n",
    "            \n",
    "            # print accuracy\n",
    "            print(\"Epoch {}, Accuracy: {:.3f}%\".format(epoch + 1, accuracy)) \n",
    "            \n",
    "            # add loss to loss array and renew the loss\n",
    "            self.lossArr.append(loss_sum)\n",
    "            self.accuracyArr.append(accuracy)\n",
    "\n",
    "\n",
    "def main():\n",
    "    # Do not run any additional function nor touch any of these codes\n",
    "\n",
    "    # define dataset and dataloader\n",
    "    train_MNIST = datasets.MNIST(\"MNIST_data/\", train=True, transform=transforms.ToTensor(), download=True)\n",
    "    train_loader = torch.utils.data.DataLoader(dataset=train_MNIST, shuffle=True, drop_last=True)\n",
    "    \n",
    "    # set hyperparameters\n",
    "    epochs = 5\n",
    "    learning_rate = 0.1\n",
    "    inputL_dim, hiddenL_dim, outputL_dim = 28*28, 128, 10\n",
    "    \n",
    "    print(\"inputL_dim: \", inputL_dim)\n",
    "    print(\"hiddenL_dim: \", hiddenL_dim)\n",
    "    print(\"outputL_dim: \", outputL_dim)\n",
    "    # initialize model\n",
    "    mlp = MLP(inputL_dim, hiddenL_dim, outputL_dim, learning_rate)\n",
    "    \n",
    "    \n",
    "#     self.d_w2 = np.dot(self.a1.T, (self.a2 - y_onehot) * sigmoid_deriv(self.a2))\n",
    "#     self.d_b2 = np.dot(self.a1.T, (self.a2 - y_onehot) * sigmoid_deriv(self.a2))\n",
    "#     self.d_w1 = np.dot(x.T,  (np.dot((self.a2 - y_onehot) * sigmoid_deriv(self.a2), self.w2.T) * sigmoid_deriv(self.a1)))\n",
    "    print(\"train_loader len: \", len(train_loader))\n",
    "    print(\"w1: \", mlp.w1.shape)\n",
    "    print(\"b1: \",mlp.b1.shape)\n",
    "    print(\"w2: \",mlp.w2.shape)\n",
    "    print(\"b2: \",mlp.b2.shape)\n",
    "    \n",
    "    \n",
    "    # start training\n",
    "    mlp.train(epochs, train_loader)\n",
    "    \n",
    "    plt.subplot(2, 1, 1)\n",
    "    plt.plot(range(epochs), mlp.lossArr, label='loss')\n",
    "    plt.title('Loss Graph')\n",
    "    plt.xlabel('# Epoch')\n",
    "    plt.ylabel('Loss')\n",
    "    plt.subplot(2, 1, 2)\n",
    "    plt.plot(range(epochs), mlp.accuracyArr, label='accuracy')\n",
    "    plt.title('Accuracy Graph')\n",
    "    plt.xlabel('# Epoch')\n",
    "    plt.ylabel('Accuracy')\n",
    "    plt.tight_layout()\n",
    "    plt.savefig('plots.png')\n",
    "\n",
    "main()\n",
    "################################################DO NOT TOUCH################################################"
   ]
  },
  {
   "cell_type": "code",
   "execution_count": null,
   "id": "57c9d7b1",
   "metadata": {},
   "outputs": [],
   "source": []
  }
 ],
 "metadata": {
  "kernelspec": {
   "display_name": "cv",
   "language": "python",
   "name": "cv"
  },
  "language_info": {
   "codemirror_mode": {
    "name": "ipython",
    "version": 3
   },
   "file_extension": ".py",
   "mimetype": "text/x-python",
   "name": "python",
   "nbconvert_exporter": "python",
   "pygments_lexer": "ipython3",
   "version": "3.9.0"
  }
 },
 "nbformat": 4,
 "nbformat_minor": 5
}
